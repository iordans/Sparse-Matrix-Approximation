{
 "cells": [
  {
   "cell_type": "markdown",
   "metadata": {},
   "source": [
    "#### An approximation of a sparse matrix (Oct 2019)\n",
    "\n",
    "* The entries of a nonnegative matrix Y (nxm) are approximated by the use of Nonnegative Matrix Approximation (NMF):\n",
    "\n",
    "&nbsp;&nbsp;&nbsp;&nbsp;&nbsp;&nbsp; \n",
    "$$Y = P Q, P=\\{p_{ik} \\} \\mbox{ is } n\\times p \\mbox{ and } Q=\\{q_{kj} \\} \\mbox{ is } p\\times m$$\n",
    "\n",
    "* The number $p$ of the **latent components** is fixed but the approximation of the $Y$'s elements $y_{ij}$ is by the \"integer combination\":\n",
    "\n",
    "$$ y_{ij} \\approx s_{i1}q_{1j}+ \\cdots + s_{ip}q_{pj}, \\mbox{ } (*) $$\n",
    "\n",
    "&nbsp;&nbsp;&nbsp;&nbsp;&nbsp;&nbsp; \n",
    "where $0\\ge s_{i1} \\le s_{max}$ are integer and $s_{i1}+\\cdots + s_{ip}=s_{max}$. Here $s_{max}$ is a fixed paramter similar to $p$.\n",
    "\n",
    "* Approximation of this type can arise e.g. when a target set of ingredients ($y_{i\\cdot}, i=1,\\cdots,n$) needs to be delivered optimally through a combination of maximum $s_{max}$ predifined ingredient compounds (which are the latent components $1,...,p$). \n",
    "\n",
    "\n",
    "* The (sub)optimal solution $\\hat{P}, \\hat{Q}$ is achieved through an iterative alternating optimization of $P$ and $Q$ where at each step the integer coefficients $s_{i\\cdot}$ in $(*)$ are found by a branch-and-bound approach to reduce number of computations (see method *search( )* below)"
   ]
  },
  {
   "cell_type": "code",
   "execution_count": 1,
   "metadata": {},
   "outputs": [],
   "source": [
    "%load_ext autoreload\n",
    "%autoreload 2"
   ]
  },
  {
   "cell_type": "markdown",
   "metadata": {},
   "source": [
    "### Implementation of integer NMF for 1-row matrix"
   ]
  },
  {
   "cell_type": "code",
   "execution_count": 2,
   "metadata": {
    "collapsed": true
   },
   "outputs": [],
   "source": [
    "import pandas as pd\n",
    "import numpy as np\n",
    "import matplotlib.pyplot as plt\n",
    "import seaborn as sns\n",
    "import scipy\n",
    "from scipy.optimize import nnls\n",
    "from queue import PriorityQueue \n",
    "\n",
    "### Generate all combinations with replacement\n",
    "from itertools import combinations_with_replacement\n",
    "\n",
    "### Q initialization\n",
    "from sklearn.decomposition import NMF\n",
    "\n",
    "np.set_printoptions(precision=3)\n",
    "pd.set_option('precision', 4)      \n",
    "%matplotlib inline"
   ]
  },
  {
   "cell_type": "code",
   "execution_count": 3,
   "metadata": {
    "collapsed": true
   },
   "outputs": [],
   "source": [
    "class CombinationOptimizer:\n",
    "    def __init__(self, target, pill_ingr_matrix, max_pill):\n",
    "        self.heuristic_cache = {}\n",
    "        self.to_search = PriorityQueue()\n",
    "        self.queue_copy = set()\n",
    "        self.Q = pill_ingr_matrix\n",
    "        self.y = target\n",
    "        self.max_pill = max_pill\n",
    "        self.n = pill_ingr_matrix.shape[0]  # the number of pills we have\n",
    "        self.best_loss = np.inf              \n",
    "        self.best_solution = (0,) * self.n\n",
    "        self.to_search.put((self.heuristic(self.best_solution), self.best_solution))\n",
    "        \n",
    "    def branch(self, node):\n",
    "        p = np.array(node)\n",
    "        if p.sum() >= self.max_pill:\n",
    "            return\n",
    "        for i in range(self.n):\n",
    "            child = p.copy()\n",
    "            child[i] += 1\n",
    "            yield tuple(child)\n",
    "        \n",
    "    def heuristic(self, node):\n",
    "        if node in self.heuristic_cache:\n",
    "            return self.heuristic_cache[node]\n",
    "        p = np.array(node)[None,:]\n",
    "\n",
    "        resid = (self.y - p.dot(self.Q))[0,]\n",
    "        loss = np.linalg.norm(resid, 2)\n",
    "        if loss < self.best_loss:\n",
    "            self.best_loss = loss\n",
    "            self.best_solution = node\n",
    "        # NNLS     \n",
    "        relaxed_solution, error = nnls(self.Q.T, resid)\n",
    "        self.heuristic_cache[node] = error\n",
    "        return error\n",
    "    \n",
    "    def search(self):\n",
    "        while not self.to_search.empty():\n",
    "            h, node = self.to_search.get()\n",
    "            if h < self.best_loss:               \n",
    "                for child in self.branch(node):\n",
    "                    if child not in self.heuristic_cache: \n",
    "                        h = self.heuristic(child)\n",
    "                        if h < self.best_loss:       \n",
    "                                self.to_search.put((h, child))\n",
    "        return self.best_solution\n",
    "        \n",
    "    def exact_solution(self):\n",
    "        ### Get all of them\n",
    "        ind = list(np.arange(1, self.n+1))\n",
    "        P = [0]* self.n\n",
    "\n",
    "        for t in np.arange(1, self.max_pill+1):\n",
    "            comb = list(combinations_with_replacement(ind,t))\n",
    "            comb_a = np.array(comb)\n",
    "            for i in range(comb_a.shape[0]):\n",
    "                ds = list(comb_a[i,:])\n",
    "                arow = [ds.count(x) for x in set(ind)]\n",
    "                P = np.vstack((P,arow))\n",
    "\n",
    "        # remove the first row  \n",
    "        P = P[1:, :]\n",
    "        \n",
    "        resid = np.repeat([self.y],P.shape[0],axis=0) - P.dot(self.Q)\n",
    "        res_sq = np.apply_along_axis(np.linalg.norm, 1, resid)\n",
    "        \n",
    "        arg_min = np.argmin(res_sq)\n",
    "        loss = res_sq[arg_min]\n",
    "        sol = P[arg_min]\n",
    "        \n",
    "        return sol, loss       "
   ]
  },
  {
   "cell_type": "code",
   "execution_count": 4,
   "metadata": {},
   "outputs": [
    {
     "data": {
      "text/plain": [
       "<matplotlib.axes._subplots.AxesSubplot at 0x1a17252390>"
      ]
     },
     "execution_count": 4,
     "metadata": {},
     "output_type": "execute_result"
    },
    {
     "data": {
      "image/png": "[encoded data removed]",
      "text/plain": [
       "<matplotlib.figure.Figure at 0x1a17223240>"
      ]
     },
     "metadata": {},
     "output_type": "display_data"
    }
   ],
   "source": [
    "### Test with randomly generated data\n",
    "\n",
    "n_targets = 100 # n_cust\n",
    "n_ingr = 15 #\n",
    "n_compnd = 8  # n_pill\n",
    "max_compnd = 4  # max_pill\n",
    "\n",
    "np.random.seed(2020)\n",
    "\n",
    "Y = np.random.uniform(low=0, high=8, size=(n_targets, n_ingr))\n",
    "# set most to zero\n",
    "Y[np.random.binomial(n=1, p=.75, size=(n_targets, n_ingr)).astype(bool)] = 0\n",
    "sns.heatmap(Y)"
   ]
  },
  {
   "cell_type": "code",
   "execution_count": 5,
   "metadata": {},
   "outputs": [
    {
     "data": {
      "text/plain": [
       "array([[0.   , 6.987, 0.   , 0.   , 0.   , 1.736, 2.212, 0.   , 0.   ,\n",
       "        0.   , 0.   , 0.   , 0.   , 2.845, 2.729],\n",
       "       [0.   , 0.   , 0.   , 0.   , 0.   , 0.   , 0.   , 0.   , 0.   ,\n",
       "        0.   , 0.   , 0.   , 0.   , 0.   , 0.   ],\n",
       "       [0.   , 0.   , 2.987, 3.038, 0.   , 0.   , 0.   , 0.   , 0.   ,\n",
       "        6.794, 3.539, 0.   , 0.   , 0.   , 0.   ],\n",
       "       [0.   , 5.095, 0.   , 1.535, 0.   , 4.107, 0.   , 4.792, 0.   ,\n",
       "        0.   , 0.   , 4.515, 0.   , 0.   , 5.578],\n",
       "       [0.   , 0.   , 0.   , 0.   , 3.862, 0.   , 0.   , 0.   , 0.   ,\n",
       "        7.188, 0.   , 0.   , 0.   , 0.133, 0.   ]])"
      ]
     },
     "execution_count": 5,
     "metadata": {},
     "output_type": "execute_result"
    }
   ],
   "source": [
    "Y[:5,:]"
   ]
  },
  {
   "cell_type": "code",
   "execution_count": 6,
   "metadata": {},
   "outputs": [
    {
     "data": {
      "text/plain": [
       "array([[1.34, 0.  , 0.  , 0.33, 0.  , 0.  , 0.  , 0.01, 0.14, 0.  , 0.07,\n",
       "        0.  , 0.  , 0.01, 0.  ],\n",
       "       [0.  , 0.  , 0.  , 0.  , 0.04, 1.85, 0.  , 0.  , 0.28, 0.  , 0.  ,\n",
       "        0.41, 0.  , 0.  , 0.  ],\n",
       "       [0.  , 0.  , 0.  , 0.  , 0.28, 0.  , 0.01, 2.61, 0.  , 0.  , 0.1 ,\n",
       "        0.66, 0.  , 0.  , 0.  ],\n",
       "       [0.  , 2.46, 0.  , 0.  , 0.  , 0.  , 0.  , 0.  , 0.16, 0.  , 0.  ,\n",
       "        0.  , 0.  , 0.01, 0.17],\n",
       "       [0.  , 0.  , 0.  , 0.  , 0.  , 0.  , 4.  , 0.  , 0.38, 0.  , 0.  ,\n",
       "        0.  , 0.1 , 0.38, 0.36],\n",
       "       [0.  , 0.  , 2.68, 2.2 , 0.  , 0.  , 0.  , 0.  , 0.  , 0.25, 0.  ,\n",
       "        1.43, 0.07, 0.  , 1.16],\n",
       "       [0.  , 0.  , 0.  , 0.  , 0.1 , 0.  , 0.  , 0.09, 0.03, 0.  , 1.72,\n",
       "        0.  , 2.26, 0.  , 0.33],\n",
       "       [0.  , 0.  , 0.05, 0.  , 2.25, 0.  , 0.  , 0.  , 0.57, 2.76, 0.  ,\n",
       "        0.05, 0.  , 3.  , 0.58]])"
      ]
     },
     "execution_count": 6,
     "metadata": {},
     "output_type": "execute_result"
    }
   ],
   "source": [
    "# Initialize Q using NMF\n",
    "model = NMF(n_components=n_compnd, init='random', random_state=0)\n",
    "W = model.fit_transform(Y)\n",
    "Qnmf = model.components_\n",
    "Qnmf.round(2)"
   ]
  },
  {
   "cell_type": "code",
   "execution_count": 7,
   "metadata": {},
   "outputs": [
    {
     "name": "stdout",
     "output_type": "stream",
     "text": [
      "Solution:\t(0, 0, 0, 3, 1, 0, 0, 0)\n",
      "Target:\t[0.    6.987 0.    0.    0.    1.736 2.212 0.    0.    0.    0.    0.\n",
      " 0.    2.845 2.729])\n",
      "Approximation:\t[0.    7.394 0.    0.    0.    0.    3.999 0.    0.862 0.    0.    0.\n",
      " 0.103 0.403 0.877]\n",
      "Loss:\t4.0642842838742235\n",
      "Explored 13% of tree\n"
     ]
    }
   ],
   "source": [
    "# Run with 1st row of Y\n",
    "cpo_nmf = CombinationOptimizer(Y[0,:], Qnmf, max_compnd)\n",
    "solution = cpo_nmf.search()\n",
    "print(f\"Solution:\\t{solution}\")\n",
    "print(f\"Target:\\t{Y[0,:]})\")\n",
    "print(f\"Approximation:\\t{np.array(solution).dot(Qnmf)}\")\n",
    "print(f\"Loss:\\t{cpo_nmf.best_loss}\")\n",
    "\n",
    "tree_size = 0\n",
    "for i in range(1, max_compnd+1):\n",
    "   tree_size += scipy.special.binom(n_compnd + max_compnd -1, max_compnd)\n",
    "print(f\"Explored {100*len(cpo_nmf.heuristic_cache)/tree_size:.0f}% of tree\")"
   ]
  },
  {
   "cell_type": "code",
   "execution_count": 8,
   "metadata": {},
   "outputs": [
    {
     "data": {
      "text/plain": [
       "(array([0, 0, 0, 3, 1, 0, 0, 0]), 4.0642842838742235)"
      ]
     },
     "execution_count": 8,
     "metadata": {},
     "output_type": "execute_result"
    }
   ],
   "source": [
    "e_sol = cpo_nmf.exact_solution()\n",
    "e_sol"
   ]
  },
  {
   "cell_type": "code",
   "execution_count": 9,
   "metadata": {
    "collapsed": true
   },
   "outputs": [],
   "source": [
    "### Loop over all rows\n",
    "loss_all=[0]\n",
    "explored=[0]\n",
    "\n",
    "for r in range(Y.shape[0]):\n",
    "    cpo_nmf = CombinationOptimizer(Y[r,:], Qnmf, max_compnd)\n",
    "    solution = cpo_nmf.search()\n",
    "    tree_size = 0\n",
    "    for i in range(1, max_compnd+1):\n",
    "        tree_size += scipy.special.binom(n_compnd + max_compnd -1, max_compnd)\n",
    "    loss_all= loss_all + [cpo_nmf.best_loss]\n",
    "    explored= explored + [100*len(cpo_nmf.heuristic_cache)/tree_size]"
   ]
  },
  {
   "cell_type": "code",
   "execution_count": 10,
   "metadata": {},
   "outputs": [
    {
     "data": {
      "text/plain": [
       "array([[<matplotlib.axes._subplots.AxesSubplot object at 0x1a19319128>,\n",
       "        <matplotlib.axes._subplots.AxesSubplot object at 0x1a19496b70>]],\n",
       "      dtype=object)"
      ]
     },
     "execution_count": 10,
     "metadata": {},
     "output_type": "execute_result"
    },
    {
     "data": {
      "image/png": "[encoded data removed]",
      "text/plain": [
       "<matplotlib.figure.Figure at 0x1a17308da0>"
      ]
     },
     "metadata": {},
     "output_type": "display_data"
    }
   ],
   "source": [
    "df100 = pd.DataFrame(data={'loss': loss_all, '% explored': explored})\n",
    "df100.hist()"
   ]
  },
  {
   "cell_type": "code",
   "execution_count": 11,
   "metadata": {},
   "outputs": [
    {
     "data": {
      "text/html": [
       "<div>\n",
       "<style>\n",
       "    .dataframe thead tr:only-child th {\n",
       "        text-align: right;\n",
       "    }\n",
       "\n",
       "    .dataframe thead th {\n",
       "        text-align: left;\n",
       "    }\n",
       "\n",
       "    .dataframe tbody tr th {\n",
       "        vertical-align: top;\n",
       "    }\n",
       "</style>\n",
       "<table border=\"1\" class=\"dataframe\">\n",
       "  <thead>\n",
       "    <tr style=\"text-align: right;\">\n",
       "      <th></th>\n",
       "      <th>% explored</th>\n",
       "      <th>loss</th>\n",
       "    </tr>\n",
       "  </thead>\n",
       "  <tbody>\n",
       "    <tr>\n",
       "      <th>count</th>\n",
       "      <td>101.0000</td>\n",
       "      <td>101.0000</td>\n",
       "    </tr>\n",
       "    <tr>\n",
       "      <th>mean</th>\n",
       "      <td>10.2400</td>\n",
       "      <td>4.7766</td>\n",
       "    </tr>\n",
       "    <tr>\n",
       "      <th>std</th>\n",
       "      <td>10.1064</td>\n",
       "      <td>2.2509</td>\n",
       "    </tr>\n",
       "    <tr>\n",
       "      <th>min</th>\n",
       "      <td>0.0000</td>\n",
       "      <td>0.0000</td>\n",
       "    </tr>\n",
       "    <tr>\n",
       "      <th>25%</th>\n",
       "      <td>2.5000</td>\n",
       "      <td>3.2600</td>\n",
       "    </tr>\n",
       "    <tr>\n",
       "      <th>50%</th>\n",
       "      <td>5.4545</td>\n",
       "      <td>4.6002</td>\n",
       "    </tr>\n",
       "    <tr>\n",
       "      <th>75%</th>\n",
       "      <td>15.8333</td>\n",
       "      <td>6.5722</td>\n",
       "    </tr>\n",
       "    <tr>\n",
       "      <th>max</th>\n",
       "      <td>36.4394</td>\n",
       "      <td>9.2888</td>\n",
       "    </tr>\n",
       "  </tbody>\n",
       "</table>\n",
       "</div>"
      ],
      "text/plain": [
       "       % explored      loss\n",
       "count    101.0000  101.0000\n",
       "mean      10.2400    4.7766\n",
       "std       10.1064    2.2509\n",
       "min        0.0000    0.0000\n",
       "25%        2.5000    3.2600\n",
       "50%        5.4545    4.6002\n",
       "75%       15.8333    6.5722\n",
       "max       36.4394    9.2888"
      ]
     },
     "execution_count": 11,
     "metadata": {},
     "output_type": "execute_result"
    }
   ],
   "source": [
    "df100.describe()"
   ]
  },
  {
   "cell_type": "markdown",
   "metadata": {},
   "source": [
    "----"
   ]
  },
  {
   "cell_type": "markdown",
   "metadata": {},
   "source": [
    "### ALS (Alternating Least Square) for complete solution"
   ]
  },
  {
   "cell_type": "code",
   "execution_count": 12,
   "metadata": {
    "collapsed": true
   },
   "outputs": [],
   "source": [
    "def als(Y, n_compnd, max_compnd, n_iterations):\n",
    "    tree_size = 0\n",
    "    for i in range(1, max_compnd+1):\n",
    "        tree_size += scipy.special.binom(n_compnd + max_compnd -1, max_compnd)\n",
    "\n",
    "    # (1) Q initialization\n",
    "    model = NMF(n_components=n_compnd, init='random', random_state=0)\n",
    "    W = model.fit_transform(Y)\n",
    "    Q0 = model.components_\n",
    "    Q = Q0\n",
    "    \n",
    "    p, m = Q.shape  # p - num of compounds, m - num of ingredients\n",
    "\n",
    "    # (2) ALS iterations\n",
    "    loss = []\n",
    "    explored = []\n",
    "    delta_Q = []\n",
    "    for k in range(n_iterations):\n",
    "        \n",
    "        # (2.1) Step P - (Loop over all rows - put this in a function)\n",
    "        P_temp = []\n",
    "        loss_iter=[0]\n",
    "        explored_iter=[0]\n",
    "        \n",
    "        for r in range(Y.shape[0]):\n",
    "            cpo_nmf = CombinationOptimizer(Y[r,:], Q, max_compnd)\n",
    "            solution = cpo_nmf.search()\n",
    "            loss_iter = loss_iter + [cpo_nmf.best_loss]\n",
    "            explored_iter= explored_iter + [100*len(cpo_nmf.heuristic_cache)/tree_size] \n",
    "            P_temp.append(solution)\n",
    "            \n",
    "        # remove the first row / aggregate \n",
    "        P = np.array(P_temp)\n",
    "        if k==0:\n",
    "            P0 = P\n",
    "        loss.append(np.mean(loss_iter))\n",
    "        explored.append(np.mean(explored_iter))\n",
    "        \n",
    "        # (2.1) Step Q - construct Q column by column solving a NNLS\n",
    "        Q_new = []\n",
    "        for r in range(m): \n",
    "            Q_column, err = nnls(P, Y[:,r])\n",
    "            Q_new.append(Q_column)\n",
    "        # Remove the fake 1st row and transpose\n",
    "        Q_new = np.array(Q_new).T \n",
    "        delta_Q.append(np.linalg.norm(Q-Q_new, 'fro'))\n",
    "        Q = Q_new\n",
    "\n",
    "    return P, Q, loss, explored, delta_Q, P0, Q0"
   ]
  },
  {
   "cell_type": "code",
   "execution_count": 13,
   "metadata": {
    "collapsed": true
   },
   "outputs": [],
   "source": [
    "# test\n",
    "Pres = als(Y,10,6,60)"
   ]
  },
  {
   "cell_type": "code",
   "execution_count": 14,
   "metadata": {},
   "outputs": [
    {
     "data": {
      "text/plain": [
       "array([[0, 1, 0, 3, 1, 0, 0, 0, 0, 0],\n",
       "       [0, 0, 0, 0, 0, 0, 0, 0, 0, 0],\n",
       "       [0, 0, 0, 0, 0, 1, 1, 1, 0, 1],\n",
       "       [0, 1, 0, 2, 0, 0, 0, 0, 2, 1],\n",
       "       [0, 0, 0, 0, 0, 0, 0, 2, 0, 0]])"
      ]
     },
     "execution_count": 14,
     "metadata": {},
     "output_type": "execute_result"
    }
   ],
   "source": [
    "# P ====\n",
    "Pres[0][:5,:]"
   ]
  },
  {
   "cell_type": "code",
   "execution_count": 15,
   "metadata": {},
   "outputs": [
    {
     "data": {
      "image/png": "[encoded data removed]",
      "text/plain": [
       "<matplotlib.figure.Figure at 0x1a194a1ba8>"
      ]
     },
     "metadata": {},
     "output_type": "display_data"
    },
    {
     "data": {
      "image/png": "[encoded data removed]",
      "text/plain": [
       "<matplotlib.figure.Figure at 0x1a172dafd0>"
      ]
     },
     "metadata": {},
     "output_type": "display_data"
    }
   ],
   "source": [
    "# Loss \n",
    "plt.plot(Pres[4])\n",
    "plt.show()\n",
    "# Change in Q\n",
    "plt.plot(Pres[2])\n",
    "plt.show()"
   ]
  },
  {
   "cell_type": "code",
   "execution_count": 16,
   "metadata": {},
   "outputs": [
    {
     "data": {
      "text/plain": [
       "array([[  2.48,   0.03,   0.25,   0.00,   0.00,   0.04,   0.00,   0.00,\n",
       "          0.46,   0.00,   0.00,   0.00,   0.00,   0.07,   0.00],\n",
       "       [  0.14,   0.11,   0.00,   0.02,   0.05,   2.77,   0.00,   0.01,\n",
       "          0.37,   0.00,   0.13,   0.50,   0.00,   0.00,   0.00]])"
      ]
     },
     "execution_count": 16,
     "metadata": {},
     "output_type": "execute_result"
    }
   ],
   "source": [
    "# Q ====\n",
    "np.set_printoptions(formatter={'float': lambda x: \"{:6.2f}\".format(x)})\n",
    "Pres[1][:2,:]"
   ]
  },
  {
   "cell_type": "code",
   "execution_count": 17,
   "metadata": {},
   "outputs": [
    {
     "data": {
      "text/plain": [
       "<matplotlib.axes._subplots.AxesSubplot at 0x1059ae940>"
      ]
     },
     "execution_count": 17,
     "metadata": {},
     "output_type": "execute_result"
    },
    {
     "data": {
      "image/png": "[encoded data removed]",
      "text/plain": [
       "<matplotlib.figure.Figure at 0x1a19779400>"
      ]
     },
     "metadata": {},
     "output_type": "display_data"
    }
   ],
   "source": [
    "sns.heatmap(Pres[1])"
   ]
  },
  {
   "cell_type": "code",
   "execution_count": 18,
   "metadata": {},
   "outputs": [
    {
     "data": {
      "text/plain": [
       "<matplotlib.axes._subplots.AxesSubplot at 0x1a1963c2e8>"
      ]
     },
     "execution_count": 18,
     "metadata": {},
     "output_type": "execute_result"
    },
    {
     "data": {
      "image/png": "[encoded data removed]",
      "text/plain": [
       "<matplotlib.figure.Figure at 0x1a196dca90>"
      ]
     },
     "metadata": {},
     "output_type": "display_data"
    }
   ],
   "source": [
    "# Difference b/w last iteration Q and initial value Q\n",
    "sns.heatmap(Pres[1]-Pres[6], center=0)"
   ]
  },
  {
   "cell_type": "code",
   "execution_count": null,
   "metadata": {
    "collapsed": true
   },
   "outputs": [],
   "source": []
  }
 ],
 "metadata": {
  "kernelspec": {
   "display_name": "Python 3",
   "language": "python",
   "name": "python3"
  },
  "language_info": {
   "codemirror_mode": {
    "name": "ipython",
    "version": 3
   },
   "file_extension": ".py",
   "mimetype": "text/x-python",
   "name": "python",
   "nbconvert_exporter": "python",
   "pygments_lexer": "ipython3",
   "version": "3.6.8"
  }
 },
 "nbformat": 4,
 "nbformat_minor": 4
}
